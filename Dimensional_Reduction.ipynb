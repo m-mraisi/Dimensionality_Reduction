{
 "cells": [
  {
   "cell_type": "markdown",
   "metadata": {},
   "source": [
    "## Assignment 1\n",
    "## Grp 10"
   ]
  },
  {
   "cell_type": "code",
   "execution_count": 1,
   "metadata": {},
   "outputs": [],
   "source": [
    "# Importing libraries\n",
    "\n",
    "# linear algebra\n",
    "import numpy as np \n",
    "# data processing\n",
    "import pandas as pd \n",
    "# data visualization\n",
    "import seaborn as sns\n",
    "%matplotlib inline\n",
    "from matplotlib import pyplot as plt\n",
    "from matplotlib import style\n",
    "from sklearn import metrics"
   ]
  },
  {
   "cell_type": "code",
   "execution_count": 2,
   "metadata": {},
   "outputs": [],
   "source": [
    "#Import the dataset\n",
    "\n",
    "dataset=pd.read_csv(\"Restaurant_Scores_-_LIVES_Standard.csv\")\n",
    "original_data = dataset.copy()"
   ]
  },
  {
   "cell_type": "code",
   "execution_count": 3,
   "metadata": {},
   "outputs": [
    {
     "name": "stdout",
     "output_type": "stream",
     "text": [
      "<class 'pandas.core.frame.DataFrame'>\n",
      "RangeIndex: 53973 entries, 0 to 53972\n",
      "Data columns (total 22 columns):\n",
      " #   Column                        Non-Null Count  Dtype  \n",
      "---  ------                        --------------  -----  \n",
      " 0   business_id                   53973 non-null  int64  \n",
      " 1   business_name                 53973 non-null  object \n",
      " 2   business_address              53973 non-null  object \n",
      " 3   business_city                 53973 non-null  object \n",
      " 4   business_state                53973 non-null  object \n",
      " 5   business_postal_code          52787 non-null  object \n",
      " 6   business_latitude             27475 non-null  float64\n",
      " 7   business_longitude            27475 non-null  float64\n",
      " 8   business_location             27460 non-null  object \n",
      " 9   business_phone_number         17672 non-null  float64\n",
      " 10  inspection_id                 53973 non-null  object \n",
      " 11  inspection_date               53973 non-null  object \n",
      " 12  inspection_score              39541 non-null  float64\n",
      " 13  inspection_type               53973 non-null  object \n",
      " 14  violation_id                  40253 non-null  object \n",
      " 15  violation_description         40253 non-null  object \n",
      " 16  risk_category                 40253 non-null  object \n",
      " 17  Neighborhoods                 27435 non-null  float64\n",
      " 18  SF Find Neighborhoods         27435 non-null  float64\n",
      " 19  Current Police Districts      27447 non-null  float64\n",
      " 20  Current Supervisor Districts  27447 non-null  float64\n",
      " 21  Analysis Neighborhoods        27447 non-null  float64\n",
      "dtypes: float64(9), int64(1), object(12)\n",
      "memory usage: 9.1+ MB\n"
     ]
    }
   ],
   "source": [
    "dataset.info()"
   ]
  },
  {
   "cell_type": "markdown",
   "metadata": {},
   "source": [
    "## Missing Values Ratio"
   ]
  },
  {
   "cell_type": "code",
   "execution_count": 4,
   "metadata": {},
   "outputs": [
    {
     "data": {
      "text/plain": [
       "business_id                      0.000000\n",
       "business_name                    0.000000\n",
       "business_address                 0.000000\n",
       "business_city                    0.000000\n",
       "business_state                   0.000000\n",
       "business_postal_code             2.197395\n",
       "business_latitude               49.094918\n",
       "business_longitude              49.094918\n",
       "business_location               49.122710\n",
       "business_phone_number           67.257703\n",
       "inspection_id                    0.000000\n",
       "inspection_date                  0.000000\n",
       "inspection_score                26.739296\n",
       "inspection_type                  0.000000\n",
       "violation_id                    25.420117\n",
       "violation_description           25.420117\n",
       "risk_category                   25.420117\n",
       "Neighborhoods                   49.169029\n",
       "SF Find Neighborhoods           49.169029\n",
       "Current Police Districts        49.146796\n",
       "Current Supervisor Districts    49.146796\n",
       "Analysis Neighborhoods          49.146796\n",
       "dtype: float64"
      ]
     },
     "execution_count": 4,
     "metadata": {},
     "output_type": "execute_result"
    }
   ],
   "source": [
    "# checking the percentage of missing values in each variable\n",
    "\n",
    "dataset.isnull().sum()/len(dataset)*100"
   ]
  },
  {
   "cell_type": "code",
   "execution_count": 5,
   "metadata": {},
   "outputs": [],
   "source": [
    "#check if any are more than the threshold\n",
    "null_percentages = dataset.isnull().sum()/len(dataset)*100\n",
    "\n",
    "# saving column names in a variable\n",
    "features = dataset.columns\n",
    "feature = [ ]\n",
    "\n",
    "for i in range(0,len(null_percentages)):\n",
    "    if null_percentages[i]>=40:   #setting the threshold value, i.e 40%\n",
    "        feature.append(features[i])"
   ]
  },
  {
   "cell_type": "code",
   "execution_count": 6,
   "metadata": {},
   "outputs": [
    {
     "name": "stdout",
     "output_type": "stream",
     "text": [
      "9\n",
      "['business_latitude', 'business_longitude', 'business_location', 'business_phone_number', 'Neighborhoods', 'SF Find Neighborhoods', 'Current Police Districts', 'Current Supervisor Districts', 'Analysis Neighborhoods']\n"
     ]
    }
   ],
   "source": [
    "print(len(feature))\n",
    "print(feature)"
   ]
  },
  {
   "cell_type": "code",
   "execution_count": 7,
   "metadata": {},
   "outputs": [
    {
     "name": "stdout",
     "output_type": "stream",
     "text": [
      "9\n",
      "['business_latitude', 'business_longitude', 'business_location', 'business_phone_number', 'Neighborhoods', 'SF Find Neighborhoods', 'Current Police Districts', 'Current Supervisor Districts', 'Analysis Neighborhoods']\n"
     ]
    }
   ],
   "source": [
    "## let's check the columns that have higher than the threshhold 40% of nulls\n",
    "null_features = dataset.columns\n",
    "null_feature = [ ]\n",
    "\n",
    "for i in range(0,len(null_percentages)):\n",
    "    if null_percentages[i]>=40:   #setting the threshold value, i.e 40%\n",
    "        null_feature.append(features[i])\n",
    "print(len(null_feature))\n",
    "print(null_feature)"
   ]
  },
  {
   "cell_type": "code",
   "execution_count": 8,
   "metadata": {},
   "outputs": [],
   "source": [
    "## since the columsn that have more thabn 40% null values in their data are \n",
    "##not importnat features in building the machine learning model, then we will bbe droping them\n",
    "\n",
    "dataset = dataset.loc[:, ~dataset.columns.isin(null_feature)] ##select all columns except null_feature"
   ]
  },
  {
   "cell_type": "code",
   "execution_count": 9,
   "metadata": {},
   "outputs": [
    {
     "data": {
      "text/plain": [
       "business_id               0.000000\n",
       "business_name             0.000000\n",
       "business_address          0.000000\n",
       "business_city             0.000000\n",
       "business_state            0.000000\n",
       "business_postal_code      2.197395\n",
       "inspection_id             0.000000\n",
       "inspection_date           0.000000\n",
       "inspection_score         26.739296\n",
       "inspection_type           0.000000\n",
       "violation_id             25.420117\n",
       "violation_description    25.420117\n",
       "risk_category            25.420117\n",
       "dtype: float64"
      ]
     },
     "execution_count": 9,
     "metadata": {},
     "output_type": "execute_result"
    }
   ],
   "source": [
    "dataset.isnull().sum()/len(dataset)*100"
   ]
  },
  {
   "cell_type": "code",
   "execution_count": 10,
   "metadata": {},
   "outputs": [
    {
     "data": {
      "text/plain": [
       "8.092080228148262"
      ]
     },
     "execution_count": 10,
     "metadata": {},
     "output_type": "execute_result"
    }
   ],
   "source": [
    "#check the percentage of rows that have null values\n",
    "\n",
    "(dataset.isnull().sum().sum()/(dataset.shape[0]*dataset.shape[1]))*100"
   ]
  },
  {
   "cell_type": "code",
   "execution_count": 11,
   "metadata": {},
   "outputs": [
    {
     "data": {
      "text/html": [
       "<div>\n",
       "<style scoped>\n",
       "    .dataframe tbody tr th:only-of-type {\n",
       "        vertical-align: middle;\n",
       "    }\n",
       "\n",
       "    .dataframe tbody tr th {\n",
       "        vertical-align: top;\n",
       "    }\n",
       "\n",
       "    .dataframe thead th {\n",
       "        text-align: right;\n",
       "    }\n",
       "</style>\n",
       "<table border=\"1\" class=\"dataframe\">\n",
       "  <thead>\n",
       "    <tr style=\"text-align: right;\">\n",
       "      <th></th>\n",
       "      <th>business_id</th>\n",
       "      <th>business_name</th>\n",
       "      <th>business_address</th>\n",
       "      <th>business_city</th>\n",
       "      <th>business_state</th>\n",
       "      <th>business_postal_code</th>\n",
       "      <th>inspection_id</th>\n",
       "      <th>inspection_date</th>\n",
       "      <th>inspection_score</th>\n",
       "      <th>inspection_type</th>\n",
       "      <th>risk_category</th>\n",
       "    </tr>\n",
       "  </thead>\n",
       "  <tbody>\n",
       "    <tr>\n",
       "      <th>0</th>\n",
       "      <td>835</td>\n",
       "      <td>Kam Po Kitchen</td>\n",
       "      <td>801 Broadway St</td>\n",
       "      <td>San Francisco</td>\n",
       "      <td>CA</td>\n",
       "      <td>94133</td>\n",
       "      <td>835_20180917</td>\n",
       "      <td>09/17/2018 12:00:00 AM</td>\n",
       "      <td>88.0</td>\n",
       "      <td>Routine - Unscheduled</td>\n",
       "      <td>Low Risk</td>\n",
       "    </tr>\n",
       "    <tr>\n",
       "      <th>1</th>\n",
       "      <td>905</td>\n",
       "      <td>Working Girls' Cafe'</td>\n",
       "      <td>0259 Kearny St</td>\n",
       "      <td>San Francisco</td>\n",
       "      <td>CA</td>\n",
       "      <td>94108</td>\n",
       "      <td>905_20190415</td>\n",
       "      <td>04/15/2019 12:00:00 AM</td>\n",
       "      <td>87.0</td>\n",
       "      <td>Routine - Unscheduled</td>\n",
       "      <td>High Risk</td>\n",
       "    </tr>\n",
       "    <tr>\n",
       "      <th>2</th>\n",
       "      <td>1203</td>\n",
       "      <td>TAWAN'S THAI FOOD</td>\n",
       "      <td>4403 GEARY Blvd</td>\n",
       "      <td>San Francisco</td>\n",
       "      <td>CA</td>\n",
       "      <td>94118</td>\n",
       "      <td>1203_20170803</td>\n",
       "      <td>08/03/2017 12:00:00 AM</td>\n",
       "      <td>77.0</td>\n",
       "      <td>Routine - Unscheduled</td>\n",
       "      <td>Moderate Risk</td>\n",
       "    </tr>\n",
       "    <tr>\n",
       "      <th>3</th>\n",
       "      <td>1345</td>\n",
       "      <td>Cordon Bleu</td>\n",
       "      <td>1574 California St</td>\n",
       "      <td>San Francisco</td>\n",
       "      <td>CA</td>\n",
       "      <td>94109</td>\n",
       "      <td>1345_20170928</td>\n",
       "      <td>09/28/2017 12:00:00 AM</td>\n",
       "      <td>81.0</td>\n",
       "      <td>Routine - Unscheduled</td>\n",
       "      <td>High Risk</td>\n",
       "    </tr>\n",
       "    <tr>\n",
       "      <th>4</th>\n",
       "      <td>1352</td>\n",
       "      <td>LA TORTILLA</td>\n",
       "      <td>495 Castro St B</td>\n",
       "      <td>San Francisco</td>\n",
       "      <td>CA</td>\n",
       "      <td>94114</td>\n",
       "      <td>1352_20180620</td>\n",
       "      <td>06/20/2018 12:00:00 AM</td>\n",
       "      <td>74.0</td>\n",
       "      <td>Routine - Unscheduled</td>\n",
       "      <td>Low Risk</td>\n",
       "    </tr>\n",
       "  </tbody>\n",
       "</table>\n",
       "</div>"
      ],
      "text/plain": [
       "   business_id         business_name    business_address  business_city  \\\n",
       "0          835        Kam Po Kitchen     801 Broadway St  San Francisco   \n",
       "1          905  Working Girls' Cafe'      0259 Kearny St  San Francisco   \n",
       "2         1203     TAWAN'S THAI FOOD     4403 GEARY Blvd  San Francisco   \n",
       "3         1345           Cordon Bleu  1574 California St  San Francisco   \n",
       "4         1352           LA TORTILLA     495 Castro St B  San Francisco   \n",
       "\n",
       "  business_state business_postal_code  inspection_id         inspection_date  \\\n",
       "0             CA                94133   835_20180917  09/17/2018 12:00:00 AM   \n",
       "1             CA                94108   905_20190415  04/15/2019 12:00:00 AM   \n",
       "2             CA                94118  1203_20170803  08/03/2017 12:00:00 AM   \n",
       "3             CA                94109  1345_20170928  09/28/2017 12:00:00 AM   \n",
       "4             CA                94114  1352_20180620  06/20/2018 12:00:00 AM   \n",
       "\n",
       "   inspection_score        inspection_type  risk_category  \n",
       "0              88.0  Routine - Unscheduled       Low Risk  \n",
       "1              87.0  Routine - Unscheduled      High Risk  \n",
       "2              77.0  Routine - Unscheduled  Moderate Risk  \n",
       "3              81.0  Routine - Unscheduled      High Risk  \n",
       "4              74.0  Routine - Unscheduled       Low Risk  "
      ]
     },
     "execution_count": 11,
     "metadata": {},
     "output_type": "execute_result"
    }
   ],
   "source": [
    "## let's drop the unique id's in the dataset and other meta data (string) that are not in use\n",
    "\n",
    "dataset.drop(['violation_id', 'violation_description'], axis = 1, inplace=True)\n",
    "dataset.head()"
   ]
  },
  {
   "cell_type": "code",
   "execution_count": 12,
   "metadata": {},
   "outputs": [
    {
     "data": {
      "text/plain": [
       "business_id              0.000000\n",
       "business_name            0.000000\n",
       "business_address         0.000000\n",
       "business_city            0.000000\n",
       "business_state           0.000000\n",
       "business_postal_code     2.197395\n",
       "inspection_id            0.000000\n",
       "inspection_date          0.000000\n",
       "inspection_score        26.739296\n",
       "inspection_type          0.000000\n",
       "risk_category           25.420117\n",
       "dtype: float64"
      ]
     },
     "execution_count": 12,
     "metadata": {},
     "output_type": "execute_result"
    }
   ],
   "source": [
    "## let's check the null percentage again\n",
    "\n",
    "dataset.isnull().sum()/len(dataset)*100"
   ]
  },
  {
   "cell_type": "code",
   "execution_count": 13,
   "metadata": {},
   "outputs": [],
   "source": [
    "## we can see that inspection_score has more than 25% of nulls we can replace the nulls with the mean\n",
    "\n",
    "dataset[\"inspection_score\"].fillna(dataset[\"inspection_score\"].mean(), inplace=True)"
   ]
  },
  {
   "cell_type": "code",
   "execution_count": 14,
   "metadata": {},
   "outputs": [
    {
     "data": {
      "text/plain": [
       "business_id              0.000000\n",
       "business_name            0.000000\n",
       "business_address         0.000000\n",
       "business_city            0.000000\n",
       "business_state           0.000000\n",
       "business_postal_code     2.197395\n",
       "inspection_id            0.000000\n",
       "inspection_date          0.000000\n",
       "inspection_score         0.000000\n",
       "inspection_type          0.000000\n",
       "risk_category           25.420117\n",
       "dtype: float64"
      ]
     },
     "execution_count": 14,
     "metadata": {},
     "output_type": "execute_result"
    }
   ],
   "source": [
    "## let's check the null percentage again\n",
    "\n",
    "dataset.isnull().sum()/len(dataset)*100"
   ]
  },
  {
   "cell_type": "code",
   "execution_count": 15,
   "metadata": {},
   "outputs": [
    {
     "data": {
      "text/plain": [
       "Low Risk         19112\n",
       "Moderate Risk    15316\n",
       "High Risk         5825\n",
       "Name: risk_category, dtype: int64"
      ]
     },
     "execution_count": 15,
     "metadata": {},
     "output_type": "execute_result"
    }
   ],
   "source": [
    "## let's look into our target \"risk_category\"\n",
    "dataset[\"risk_category\"].value_counts()"
   ]
  },
  {
   "cell_type": "code",
   "execution_count": 16,
   "metadata": {},
   "outputs": [
    {
     "data": {
      "text/plain": [
       "business_id             0.000000\n",
       "business_name           0.000000\n",
       "business_address        0.000000\n",
       "business_city           0.000000\n",
       "business_state          0.000000\n",
       "business_postal_code    2.197395\n",
       "inspection_id           0.000000\n",
       "inspection_date         0.000000\n",
       "inspection_score        0.000000\n",
       "inspection_type         0.000000\n",
       "risk_category           0.000000\n",
       "dtype: float64"
      ]
     },
     "execution_count": 16,
     "metadata": {},
     "output_type": "execute_result"
    }
   ],
   "source": [
    "## We can replace the null values using the mode funciton here since it's categorical values\n",
    "dataset[\"risk_category\"].fillna(dataset[\"risk_category\"].mode()[0], inplace=True)\n",
    "## let's check the null percentage again\n",
    "\n",
    "dataset.isnull().sum()/len(dataset)*100"
   ]
  },
  {
   "cell_type": "code",
   "execution_count": 17,
   "metadata": {},
   "outputs": [
    {
     "data": {
      "text/plain": [
       "0.1997631812539266"
      ]
     },
     "execution_count": 17,
     "metadata": {},
     "output_type": "execute_result"
    }
   ],
   "source": [
    "#check the percentage of rows that have null values\n",
    "\n",
    "(dataset.isnull().sum().sum()/(dataset.shape[0]*dataset.shape[1]))*100"
   ]
  },
  {
   "cell_type": "code",
   "execution_count": 18,
   "metadata": {},
   "outputs": [
    {
     "data": {
      "text/plain": [
       "0.0"
      ]
     },
     "execution_count": 18,
     "metadata": {},
     "output_type": "execute_result"
    }
   ],
   "source": [
    "#Since the percentage of null values is negligible we can drop those\n",
    "\n",
    "dataset = dataset.dropna(axis=0)\n",
    "\n",
    "#check the percentage of rows that have null values\n",
    "\n",
    "(dataset.isnull().sum().sum()/(dataset.shape[0]*dataset.shape[1]))*100"
   ]
  },
  {
   "cell_type": "code",
   "execution_count": 19,
   "metadata": {},
   "outputs": [],
   "source": [
    "# let's take a cleaned veriosn for power bi analysis\n",
    "dataset.to_csv(\"cleaned_data.csv\", sep=',')"
   ]
  },
  {
   "cell_type": "code",
   "execution_count": 20,
   "metadata": {},
   "outputs": [
    {
     "name": "stdout",
     "output_type": "stream",
     "text": [
      "inspection_type: \n",
      "\n",
      "Routine - Unscheduled                38807\n",
      "Reinspection/Followup                 6621\n",
      "Complaint                             2377\n",
      "New Ownership                         1877\n",
      "New Construction                       976\n",
      "Non-inspection site visit              841\n",
      "New Ownership - Followup               529\n",
      "Structural Inspection                  240\n",
      "Complaint Reinspection/Followup        228\n",
      "Foodborne Illness Investigation        202\n",
      "Routine - Scheduled                     73\n",
      "Special Event                            8\n",
      "Administrative or Document Review        4\n",
      "Multi-agency Investigation               3\n",
      "Community Health Assessment              1\n",
      "Name: inspection_type, dtype: int64 \n",
      "\n",
      "risk_category: \n",
      "\n",
      "Low Risk         32036\n",
      "Moderate Risk    15044\n",
      "High Risk         5707\n",
      "Name: risk_category, dtype: int64\n"
     ]
    }
   ],
   "source": [
    "#data transformation of categorical variables\n",
    "print(\"inspection_type: \\n\")\n",
    "print(dataset[\"inspection_type\"].value_counts(), \"\\n\")\n",
    "print(\"risk_category: \\n\")\n",
    "print(dataset[\"risk_category\"].value_counts())"
   ]
  },
  {
   "cell_type": "code",
   "execution_count": 21,
   "metadata": {},
   "outputs": [],
   "source": [
    "#data transformation of categorical variables\n",
    "dataset.replace({'risk_category':{'Low Risk':0,'Moderate Risk':1,'High Risk':2\n",
    "                                 \n",
    "                                 }, 'inspection_type':{'Routine - Unscheduled':0,\n",
    "                                                       'Reinspection/Followup':1,\n",
    "                                                       'Complaint':2,\n",
    "                                                       'New Ownership':3,\n",
    "                                                       'New Construction':4,\n",
    "                                                       'Non-inspection site visit':5,\n",
    "                                                       'New Ownership - Followup':6,\n",
    "                                                       'Structural Inspection':7,\n",
    "                                                       'Complaint Reinspection/Followup':8,\n",
    "                                                       'Foodborne Illness Investigation':9,\n",
    "                                                       'Routine - Scheduled':10,\n",
    "                                                       'Special Event':11,\n",
    "                                                       'Administrative or Document Review':12,\n",
    "                                                       'Multi-agency Investigation':13,\n",
    "                                                       'Community Health Assessment':14\n",
    "                                                      }}, inplace=True)"
   ]
  },
  {
   "cell_type": "markdown",
   "metadata": {},
   "source": [
    "## Low Variance Filter"
   ]
  },
  {
   "cell_type": "code",
   "execution_count": 22,
   "metadata": {},
   "outputs": [
    {
     "data": {
      "text/plain": [
       "business_id         1.317446e+09\n",
       "inspection_score    5.289064e+01\n",
       "inspection_type     2.242652e+00\n",
       "risk_category       4.662348e-01\n",
       "dtype: float64"
      ]
     },
     "execution_count": 22,
     "metadata": {},
     "output_type": "execute_result"
    }
   ],
   "source": [
    "#check the variance \n",
    "\n",
    "dataset.var()"
   ]
  },
  {
   "cell_type": "code",
   "execution_count": 23,
   "metadata": {},
   "outputs": [],
   "source": [
    "#business_id has the least variance so we can safely drop this\n",
    "\n",
    "dataset=dataset.drop(['business_id'],axis=1)"
   ]
  },
  {
   "cell_type": "code",
   "execution_count": 24,
   "metadata": {},
   "outputs": [
    {
     "data": {
      "text/html": [
       "<div>\n",
       "<style scoped>\n",
       "    .dataframe tbody tr th:only-of-type {\n",
       "        vertical-align: middle;\n",
       "    }\n",
       "\n",
       "    .dataframe tbody tr th {\n",
       "        vertical-align: top;\n",
       "    }\n",
       "\n",
       "    .dataframe thead th {\n",
       "        text-align: right;\n",
       "    }\n",
       "</style>\n",
       "<table border=\"1\" class=\"dataframe\">\n",
       "  <thead>\n",
       "    <tr style=\"text-align: right;\">\n",
       "      <th></th>\n",
       "      <th>business_name</th>\n",
       "      <th>business_address</th>\n",
       "      <th>business_city</th>\n",
       "      <th>business_state</th>\n",
       "      <th>business_postal_code</th>\n",
       "      <th>inspection_id</th>\n",
       "      <th>inspection_date</th>\n",
       "      <th>inspection_score</th>\n",
       "      <th>inspection_type</th>\n",
       "      <th>risk_category</th>\n",
       "    </tr>\n",
       "  </thead>\n",
       "  <tbody>\n",
       "    <tr>\n",
       "      <th>0</th>\n",
       "      <td>Kam Po Kitchen</td>\n",
       "      <td>801 Broadway St</td>\n",
       "      <td>San Francisco</td>\n",
       "      <td>CA</td>\n",
       "      <td>94133</td>\n",
       "      <td>835_20180917</td>\n",
       "      <td>09/17/2018 12:00:00 AM</td>\n",
       "      <td>88.0</td>\n",
       "      <td>0</td>\n",
       "      <td>0</td>\n",
       "    </tr>\n",
       "    <tr>\n",
       "      <th>1</th>\n",
       "      <td>Working Girls' Cafe'</td>\n",
       "      <td>0259 Kearny St</td>\n",
       "      <td>San Francisco</td>\n",
       "      <td>CA</td>\n",
       "      <td>94108</td>\n",
       "      <td>905_20190415</td>\n",
       "      <td>04/15/2019 12:00:00 AM</td>\n",
       "      <td>87.0</td>\n",
       "      <td>0</td>\n",
       "      <td>2</td>\n",
       "    </tr>\n",
       "    <tr>\n",
       "      <th>2</th>\n",
       "      <td>TAWAN'S THAI FOOD</td>\n",
       "      <td>4403 GEARY Blvd</td>\n",
       "      <td>San Francisco</td>\n",
       "      <td>CA</td>\n",
       "      <td>94118</td>\n",
       "      <td>1203_20170803</td>\n",
       "      <td>08/03/2017 12:00:00 AM</td>\n",
       "      <td>77.0</td>\n",
       "      <td>0</td>\n",
       "      <td>1</td>\n",
       "    </tr>\n",
       "    <tr>\n",
       "      <th>3</th>\n",
       "      <td>Cordon Bleu</td>\n",
       "      <td>1574 California St</td>\n",
       "      <td>San Francisco</td>\n",
       "      <td>CA</td>\n",
       "      <td>94109</td>\n",
       "      <td>1345_20170928</td>\n",
       "      <td>09/28/2017 12:00:00 AM</td>\n",
       "      <td>81.0</td>\n",
       "      <td>0</td>\n",
       "      <td>2</td>\n",
       "    </tr>\n",
       "    <tr>\n",
       "      <th>4</th>\n",
       "      <td>LA TORTILLA</td>\n",
       "      <td>495 Castro St B</td>\n",
       "      <td>San Francisco</td>\n",
       "      <td>CA</td>\n",
       "      <td>94114</td>\n",
       "      <td>1352_20180620</td>\n",
       "      <td>06/20/2018 12:00:00 AM</td>\n",
       "      <td>74.0</td>\n",
       "      <td>0</td>\n",
       "      <td>0</td>\n",
       "    </tr>\n",
       "  </tbody>\n",
       "</table>\n",
       "</div>"
      ],
      "text/plain": [
       "          business_name    business_address  business_city business_state  \\\n",
       "0        Kam Po Kitchen     801 Broadway St  San Francisco             CA   \n",
       "1  Working Girls' Cafe'      0259 Kearny St  San Francisco             CA   \n",
       "2     TAWAN'S THAI FOOD     4403 GEARY Blvd  San Francisco             CA   \n",
       "3           Cordon Bleu  1574 California St  San Francisco             CA   \n",
       "4           LA TORTILLA     495 Castro St B  San Francisco             CA   \n",
       "\n",
       "  business_postal_code  inspection_id         inspection_date  \\\n",
       "0                94133   835_20180917  09/17/2018 12:00:00 AM   \n",
       "1                94108   905_20190415  04/15/2019 12:00:00 AM   \n",
       "2                94118  1203_20170803  08/03/2017 12:00:00 AM   \n",
       "3                94109  1345_20170928  09/28/2017 12:00:00 AM   \n",
       "4                94114  1352_20180620  06/20/2018 12:00:00 AM   \n",
       "\n",
       "   inspection_score  inspection_type  risk_category  \n",
       "0              88.0                0              0  \n",
       "1              87.0                0              2  \n",
       "2              77.0                0              1  \n",
       "3              81.0                0              2  \n",
       "4              74.0                0              0  "
      ]
     },
     "execution_count": 24,
     "metadata": {},
     "output_type": "execute_result"
    }
   ],
   "source": [
    "dataset.head()"
   ]
  },
  {
   "cell_type": "code",
   "execution_count": 25,
   "metadata": {},
   "outputs": [
    {
     "name": "stdout",
     "output_type": "stream",
     "text": [
      "San Francisco    52787\n",
      "Name: business_city, dtype: int64\n",
      "CA    52787\n",
      "Name: business_state, dtype: int64\n"
     ]
    }
   ],
   "source": [
    "# remove Insignificant columns that wont contribute to the prediction of our model\n",
    "\n",
    "print(dataset[\"business_city\"].value_counts())\n",
    "print(dataset[\"business_state\"].value_counts())"
   ]
  },
  {
   "cell_type": "code",
   "execution_count": 26,
   "metadata": {},
   "outputs": [
    {
     "data": {
      "text/html": [
       "<div>\n",
       "<style scoped>\n",
       "    .dataframe tbody tr th:only-of-type {\n",
       "        vertical-align: middle;\n",
       "    }\n",
       "\n",
       "    .dataframe tbody tr th {\n",
       "        vertical-align: top;\n",
       "    }\n",
       "\n",
       "    .dataframe thead th {\n",
       "        text-align: right;\n",
       "    }\n",
       "</style>\n",
       "<table border=\"1\" class=\"dataframe\">\n",
       "  <thead>\n",
       "    <tr style=\"text-align: right;\">\n",
       "      <th></th>\n",
       "      <th>inspection_score</th>\n",
       "      <th>inspection_type</th>\n",
       "      <th>risk_category</th>\n",
       "    </tr>\n",
       "  </thead>\n",
       "  <tbody>\n",
       "    <tr>\n",
       "      <th>0</th>\n",
       "      <td>88.0</td>\n",
       "      <td>0</td>\n",
       "      <td>0</td>\n",
       "    </tr>\n",
       "    <tr>\n",
       "      <th>1</th>\n",
       "      <td>87.0</td>\n",
       "      <td>0</td>\n",
       "      <td>2</td>\n",
       "    </tr>\n",
       "    <tr>\n",
       "      <th>2</th>\n",
       "      <td>77.0</td>\n",
       "      <td>0</td>\n",
       "      <td>1</td>\n",
       "    </tr>\n",
       "    <tr>\n",
       "      <th>3</th>\n",
       "      <td>81.0</td>\n",
       "      <td>0</td>\n",
       "      <td>2</td>\n",
       "    </tr>\n",
       "    <tr>\n",
       "      <th>4</th>\n",
       "      <td>74.0</td>\n",
       "      <td>0</td>\n",
       "      <td>0</td>\n",
       "    </tr>\n",
       "  </tbody>\n",
       "</table>\n",
       "</div>"
      ],
      "text/plain": [
       "   inspection_score  inspection_type  risk_category\n",
       "0              88.0                0              0\n",
       "1              87.0                0              2\n",
       "2              77.0                0              1\n",
       "3              81.0                0              2\n",
       "4              74.0                0              0"
      ]
     },
     "execution_count": 26,
     "metadata": {},
     "output_type": "execute_result"
    }
   ],
   "source": [
    "dataset = dataset.drop(columns = ['business_name','business_address','business_city',\n",
    "                                     'business_state', 'business_postal_code',\n",
    "                                    'inspection_id', 'inspection_date'],axis=1)\n",
    "dataset.head()"
   ]
  },
  {
   "cell_type": "markdown",
   "metadata": {},
   "source": [
    "## High Correlation Filter"
   ]
  },
  {
   "cell_type": "code",
   "execution_count": 27,
   "metadata": {},
   "outputs": [
    {
     "data": {
      "text/html": [
       "<div>\n",
       "<style scoped>\n",
       "    .dataframe tbody tr th:only-of-type {\n",
       "        vertical-align: middle;\n",
       "    }\n",
       "\n",
       "    .dataframe tbody tr th {\n",
       "        vertical-align: top;\n",
       "    }\n",
       "\n",
       "    .dataframe thead th {\n",
       "        text-align: right;\n",
       "    }\n",
       "</style>\n",
       "<table border=\"1\" class=\"dataframe\">\n",
       "  <thead>\n",
       "    <tr style=\"text-align: right;\">\n",
       "      <th></th>\n",
       "      <th>inspection_score</th>\n",
       "      <th>inspection_type</th>\n",
       "      <th>risk_category</th>\n",
       "    </tr>\n",
       "  </thead>\n",
       "  <tbody>\n",
       "    <tr>\n",
       "      <th>inspection_score</th>\n",
       "      <td>1.00000</td>\n",
       "      <td>0.002320</td>\n",
       "      <td>-0.271810</td>\n",
       "    </tr>\n",
       "    <tr>\n",
       "      <th>inspection_type</th>\n",
       "      <td>0.00232</td>\n",
       "      <td>1.000000</td>\n",
       "      <td>-0.223269</td>\n",
       "    </tr>\n",
       "    <tr>\n",
       "      <th>risk_category</th>\n",
       "      <td>-0.27181</td>\n",
       "      <td>-0.223269</td>\n",
       "      <td>1.000000</td>\n",
       "    </tr>\n",
       "  </tbody>\n",
       "</table>\n",
       "</div>"
      ],
      "text/plain": [
       "                  inspection_score  inspection_type  risk_category\n",
       "inspection_score           1.00000         0.002320      -0.271810\n",
       "inspection_type            0.00232         1.000000      -0.223269\n",
       "risk_category             -0.27181        -0.223269       1.000000"
      ]
     },
     "execution_count": 27,
     "metadata": {},
     "output_type": "execute_result"
    }
   ],
   "source": [
    "#checking the correlation\n",
    "\n",
    "dataset.corr()"
   ]
  },
  {
   "cell_type": "code",
   "execution_count": 28,
   "metadata": {},
   "outputs": [
    {
     "data": {
      "image/png": "[encoded data removed]",
      "text/plain": [
       "<Figure size 576x576 with 2 Axes>"
      ]
     },
     "metadata": {
      "needs_background": "light"
     },
     "output_type": "display_data"
    }
   ],
   "source": [
    "#Making a heatmap\n",
    "\n",
    "plt.figure(figsize = (8, 8))\n",
    "sns.heatmap(dataset.corr(), annot = True)\n",
    "plt.title('Correlation Matrix', fontsize = 20)\n",
    "plt.xlabel('Parameters', fontsize = 15) \n",
    "plt.ylabel('Parameters', fontsize = 15) \n",
    "plt.show()"
   ]
  },
  {
   "cell_type": "code",
   "execution_count": 29,
   "metadata": {},
   "outputs": [],
   "source": [
    "## we can see that this approach won't help as there's no much of a correlation between the features"
   ]
  },
  {
   "cell_type": "markdown",
   "metadata": {},
   "source": [
    "## Random Forest"
   ]
  },
  {
   "cell_type": "code",
   "execution_count": 30,
   "metadata": {},
   "outputs": [],
   "source": [
    "#drop the target variable type and load this data into another dataframe\n",
    "\n",
    "df=dataset.drop(['risk_category'],axis=1)"
   ]
  },
  {
   "cell_type": "code",
   "execution_count": 31,
   "metadata": {},
   "outputs": [
    {
     "data": {
      "text/plain": [
       "RandomForestRegressor(bootstrap=True, ccp_alpha=0.0, criterion='mse',\n",
       "                      max_depth=10, max_features='auto', max_leaf_nodes=None,\n",
       "                      max_samples=None, min_impurity_decrease=0.0,\n",
       "                      min_impurity_split=None, min_samples_leaf=1,\n",
       "                      min_samples_split=2, min_weight_fraction_leaf=0.0,\n",
       "                      n_estimators=100, n_jobs=None, oob_score=False,\n",
       "                      random_state=1, verbose=0, warm_start=False)"
      ]
     },
     "execution_count": 31,
     "metadata": {},
     "output_type": "execute_result"
    }
   ],
   "source": [
    "#import the package for random forest\n",
    "from sklearn.ensemble import RandomForestRegressor\n",
    "\n",
    "model = RandomForestRegressor(random_state=1, max_depth=10)\n",
    "model.fit(df,dataset.risk_category)"
   ]
  },
  {
   "cell_type": "code",
   "execution_count": 32,
   "metadata": {},
   "outputs": [
    {
     "data": {
      "image/png": "[encoded data removed]",
      "text/plain": [
       "<Figure size 432x288 with 1 Axes>"
      ]
     },
     "metadata": {
      "needs_background": "light"
     },
     "output_type": "display_data"
    }
   ],
   "source": [
    "#Build the graph to check feature importance\n",
    "\n",
    "features = df.columns\n",
    "importances = model.feature_importances_\n",
    "indices = np.argsort(importances)[-10:]  # top 10 features\n",
    "plt.title('Feature Importances')\n",
    "plt.barh(range(len(indices)), importances[indices], color='b', align='center')\n",
    "plt.yticks(range(len(indices)), [features[i] for i in indices])\n",
    "plt.xlabel('Relative Importance')\n",
    "plt.show()"
   ]
  },
  {
   "cell_type": "code",
   "execution_count": 33,
   "metadata": {},
   "outputs": [],
   "source": [
    "## let's move forward and check the next approach"
   ]
  },
  {
   "cell_type": "markdown",
   "metadata": {},
   "source": [
    "## Backward Feature Extraction"
   ]
  },
  {
   "cell_type": "code",
   "execution_count": 34,
   "metadata": {},
   "outputs": [],
   "source": [
    "#import the feature selection libraries and linear regression libraries \n",
    "\n",
    "from sklearn.linear_model import LinearRegression\n",
    "from sklearn.feature_selection import RFE\n",
    "\n",
    "lreg = LinearRegression()\n",
    "rfe = RFE(lreg,n_features_to_select=2)\n",
    "rfe = rfe.fit(df, dataset.risk_category)"
   ]
  },
  {
   "cell_type": "code",
   "execution_count": 35,
   "metadata": {},
   "outputs": [
    {
     "name": "stdout",
     "output_type": "stream",
     "text": [
      "Index(['inspection_score', 'inspection_type'], dtype='object')\n"
     ]
    }
   ],
   "source": [
    "#check the retained column names\n",
    "\n",
    "x_rfe = df[df.columns[rfe.support_]]\n",
    "print(x_rfe.columns)"
   ]
  },
  {
   "cell_type": "markdown",
   "metadata": {},
   "source": [
    "## Forward Feature Selection"
   ]
  },
  {
   "cell_type": "code",
   "execution_count": 36,
   "metadata": {},
   "outputs": [],
   "source": [
    "#import the required libraries for forward selection\n",
    "\n",
    "from sklearn.feature_selection import f_regression\n",
    "ffs = f_regression(x_rfe,dataset.risk_category )"
   ]
  },
  {
   "cell_type": "code",
   "execution_count": 37,
   "metadata": {},
   "outputs": [],
   "source": [
    "#Take the top most variables after the forward selection process\n",
    "\n",
    "final_features = [ ]\n",
    "for i in range(0,len(x_rfe.columns)-1):\n",
    "    if ffs[0][i] >=10:\n",
    "        final_features.append(df.columns[i])"
   ]
  },
  {
   "cell_type": "code",
   "execution_count": 38,
   "metadata": {},
   "outputs": [
    {
     "data": {
      "text/plain": [
       "['inspection_score']"
      ]
     },
     "execution_count": 38,
     "metadata": {},
     "output_type": "execute_result"
    }
   ],
   "source": [
    "final_features"
   ]
  },
  {
   "cell_type": "code",
   "execution_count": 39,
   "metadata": {},
   "outputs": [],
   "source": [
    "## we can see that the inspection rate is the most optimal featrue \n",
    "##after going through the dimensionality reduction steps"
   ]
  },
  {
   "cell_type": "markdown",
   "metadata": {},
   "source": [
    "### Decision Tree Clasifier Model Building"
   ]
  },
  {
   "cell_type": "code",
   "execution_count": 40,
   "metadata": {},
   "outputs": [],
   "source": [
    "#importing the decision tree module \n",
    "\n",
    "from sklearn.tree import DecisionTreeClassifier\n",
    "from sklearn.model_selection import train_test_split"
   ]
  },
  {
   "cell_type": "code",
   "execution_count": 41,
   "metadata": {},
   "outputs": [],
   "source": [
    "## let's round inspection_score to two decimals\n",
    "## chnaging the labels from 0,1, and 2 to 0,1\n",
    "# dataset[dataset[\"risk_category\"] != 1]  \n",
    "\n",
    "## now chaing the values to only 1, and 0\n",
    "dataset[\"risk_category\"].replace(2,1, inplace=True)\n",
    "\n",
    "dataset[\"inspection_score\"] = dataset[\"inspection_score\"].round(decimals=2)"
   ]
  },
  {
   "cell_type": "code",
   "execution_count": 42,
   "metadata": {},
   "outputs": [
    {
     "name": "stdout",
     "output_type": "stream",
     "text": [
      "(42229, 2)\n",
      "(10558, 2)\n",
      "(42229,)\n",
      "(10558,)\n"
     ]
    }
   ],
   "source": [
    "## split the data into training and testing\n",
    "feature_data = dataset.drop(['risk_category'],axis=1)\n",
    "target = dataset.risk_category\n",
    "train_X, val_X, train_y, val_y = train_test_split(feature_data, target,test_size=0.2, random_state = 0)\n",
    "print(train_X.shape)\n",
    "print(val_X.shape)\n",
    "print(train_y.shape)\n",
    "print(val_y.shape)"
   ]
  },
  {
   "cell_type": "code",
   "execution_count": 43,
   "metadata": {},
   "outputs": [
    {
     "data": {
      "text/plain": [
       "DecisionTreeClassifier(ccp_alpha=0.0, class_weight=None, criterion='gini',\n",
       "                       max_depth=None, max_features=None, max_leaf_nodes=None,\n",
       "                       min_impurity_decrease=0.0, min_impurity_split=None,\n",
       "                       min_samples_leaf=1, min_samples_split=2,\n",
       "                       min_weight_fraction_leaf=0.0, presort='deprecated',\n",
       "                       random_state=None, splitter='best')"
      ]
     },
     "execution_count": 43,
     "metadata": {},
     "output_type": "execute_result"
    }
   ],
   "source": [
    "# Define model\n",
    "DT_model = DecisionTreeClassifier()\n",
    "DT_model.fit(train_X, train_y)"
   ]
  },
  {
   "cell_type": "code",
   "execution_count": 44,
   "metadata": {},
   "outputs": [
    {
     "name": "stdout",
     "output_type": "stream",
     "text": [
      "[0 0 0 ... 1 1 1]\n"
     ]
    }
   ],
   "source": [
    "# Predict with the test data\n",
    "Y_pred = DT_model.predict(val_X)\n",
    "print(Y_pred)"
   ]
  },
  {
   "cell_type": "markdown",
   "metadata": {},
   "source": [
    "## Evaluation of the performance of the Decision Tree Clasifier"
   ]
  },
  {
   "cell_type": "code",
   "execution_count": 45,
   "metadata": {},
   "outputs": [
    {
     "name": "stdout",
     "output_type": "stream",
     "text": [
      "69.39\n"
     ]
    }
   ],
   "source": [
    "acc_dt = round(DT_model.score(train_X, train_y)*100,2)\n",
    "print(acc_dt)"
   ]
  },
  {
   "cell_type": "code",
   "execution_count": 46,
   "metadata": {},
   "outputs": [],
   "source": [
    "## Let's try the features taken based on the Forward Feature Selection"
   ]
  },
  {
   "cell_type": "code",
   "execution_count": 47,
   "metadata": {},
   "outputs": [
    {
     "name": "stdout",
     "output_type": "stream",
     "text": [
      "[0 0 0 ... 1 1 1]\n",
      "69.39\n"
     ]
    }
   ],
   "source": [
    "## split the data into training and testing\n",
    "feature_data = dataset[[\"inspection_score\"]]\n",
    "target = dataset.risk_category\n",
    "train_X, val_X, train_y, val_y = train_test_split(feature_data, target,test_size=0.2, random_state = 0)\n",
    "# Define model\n",
    "DT_model = DecisionTreeClassifier()\n",
    "DT_model.fit(train_X, train_y)\n",
    "# Predict with the test data\n",
    "Y_pred = DT_model.predict(val_X)\n",
    "print(Y_pred)\n",
    "\n",
    "\n",
    "acc_dt = round(DT_model.score(train_X, train_y)*100,2)\n",
    "print(acc_dt)"
   ]
  },
  {
   "cell_type": "code",
   "execution_count": 48,
   "metadata": {},
   "outputs": [],
   "source": [
    "## still the same..."
   ]
  },
  {
   "cell_type": "markdown",
   "metadata": {},
   "source": [
    "## Linear Regression Model"
   ]
  },
  {
   "cell_type": "code",
   "execution_count": 49,
   "metadata": {},
   "outputs": [],
   "source": [
    "#import the sklearn for data set, linear regression model and also to split the train and test data\n",
    "\n",
    "from sklearn.model_selection import train_test_split\n",
    "from sklearn.linear_model import LinearRegression\n",
    "from sklearn.metrics import mean_squared_error"
   ]
  },
  {
   "cell_type": "code",
   "execution_count": 50,
   "metadata": {},
   "outputs": [
    {
     "data": {
      "text/html": [
       "<div>\n",
       "<style scoped>\n",
       "    .dataframe tbody tr th:only-of-type {\n",
       "        vertical-align: middle;\n",
       "    }\n",
       "\n",
       "    .dataframe tbody tr th {\n",
       "        vertical-align: top;\n",
       "    }\n",
       "\n",
       "    .dataframe thead th {\n",
       "        text-align: right;\n",
       "    }\n",
       "</style>\n",
       "<table border=\"1\" class=\"dataframe\">\n",
       "  <thead>\n",
       "    <tr style=\"text-align: right;\">\n",
       "      <th></th>\n",
       "      <th>inspection_score</th>\n",
       "      <th>inspection_type</th>\n",
       "      <th>risk_category</th>\n",
       "    </tr>\n",
       "  </thead>\n",
       "  <tbody>\n",
       "    <tr>\n",
       "      <th>0</th>\n",
       "      <td>88.00</td>\n",
       "      <td>0</td>\n",
       "      <td>0</td>\n",
       "    </tr>\n",
       "    <tr>\n",
       "      <th>1</th>\n",
       "      <td>87.00</td>\n",
       "      <td>0</td>\n",
       "      <td>1</td>\n",
       "    </tr>\n",
       "    <tr>\n",
       "      <th>2</th>\n",
       "      <td>77.00</td>\n",
       "      <td>0</td>\n",
       "      <td>1</td>\n",
       "    </tr>\n",
       "    <tr>\n",
       "      <th>3</th>\n",
       "      <td>81.00</td>\n",
       "      <td>0</td>\n",
       "      <td>1</td>\n",
       "    </tr>\n",
       "    <tr>\n",
       "      <th>4</th>\n",
       "      <td>74.00</td>\n",
       "      <td>0</td>\n",
       "      <td>0</td>\n",
       "    </tr>\n",
       "    <tr>\n",
       "      <th>...</th>\n",
       "      <td>...</td>\n",
       "      <td>...</td>\n",
       "      <td>...</td>\n",
       "    </tr>\n",
       "    <tr>\n",
       "      <th>53968</th>\n",
       "      <td>85.00</td>\n",
       "      <td>0</td>\n",
       "      <td>1</td>\n",
       "    </tr>\n",
       "    <tr>\n",
       "      <th>53969</th>\n",
       "      <td>86.22</td>\n",
       "      <td>1</td>\n",
       "      <td>0</td>\n",
       "    </tr>\n",
       "    <tr>\n",
       "      <th>53970</th>\n",
       "      <td>86.22</td>\n",
       "      <td>1</td>\n",
       "      <td>0</td>\n",
       "    </tr>\n",
       "    <tr>\n",
       "      <th>53971</th>\n",
       "      <td>86.22</td>\n",
       "      <td>1</td>\n",
       "      <td>0</td>\n",
       "    </tr>\n",
       "    <tr>\n",
       "      <th>53972</th>\n",
       "      <td>86.22</td>\n",
       "      <td>1</td>\n",
       "      <td>0</td>\n",
       "    </tr>\n",
       "  </tbody>\n",
       "</table>\n",
       "<p>52787 rows × 3 columns</p>\n",
       "</div>"
      ],
      "text/plain": [
       "       inspection_score  inspection_type  risk_category\n",
       "0                 88.00                0              0\n",
       "1                 87.00                0              1\n",
       "2                 77.00                0              1\n",
       "3                 81.00                0              1\n",
       "4                 74.00                0              0\n",
       "...                 ...              ...            ...\n",
       "53968             85.00                0              1\n",
       "53969             86.22                1              0\n",
       "53970             86.22                1              0\n",
       "53971             86.22                1              0\n",
       "53972             86.22                1              0\n",
       "\n",
       "[52787 rows x 3 columns]"
      ]
     },
     "execution_count": 50,
     "metadata": {},
     "output_type": "execute_result"
    }
   ],
   "source": [
    "dataset"
   ]
  },
  {
   "cell_type": "markdown",
   "metadata": {},
   "source": [
    "### Model Building"
   ]
  },
  {
   "cell_type": "code",
   "execution_count": 51,
   "metadata": {},
   "outputs": [
    {
     "data": {
      "text/plain": [
       "<matplotlib.collections.PathCollection at 0x7fdb31df0c10>"
      ]
     },
     "execution_count": 51,
     "metadata": {},
     "output_type": "execute_result"
    },
    {
     "data": {
      "image/png": "[encoded data removed]",
      "text/plain": [
       "<Figure size 432x288 with 1 Axes>"
      ]
     },
     "metadata": {
      "needs_background": "light"
     },
     "output_type": "display_data"
    }
   ],
   "source": [
    "# data preparation \n",
    "# taking inspection score as feature\n",
    "\n",
    "feature = dataset[['inspection_score']]\n",
    "target = dataset.risk_category\n",
    "plt.scatter(feature,target)"
   ]
  },
  {
   "cell_type": "code",
   "execution_count": 52,
   "metadata": {},
   "outputs": [],
   "source": [
    "x = dataset[['inspection_score']]  # feature variable\n",
    "y = dataset.risk_category          # target variable"
   ]
  },
  {
   "cell_type": "code",
   "execution_count": 53,
   "metadata": {},
   "outputs": [
    {
     "name": "stdout",
     "output_type": "stream",
     "text": [
      "(42229, 1)\n",
      "(10558, 1)\n",
      "(42229,)\n",
      "(10558,)\n"
     ]
    }
   ],
   "source": [
    "# split the training and test data set in 80% : 20%\n",
    "# assign random_state to 5\n",
    "\n",
    "x_train, x_test, y_train, y_test = train_test_split(x,y,test_size = 0.2, random_state = 5)\n",
    "print(x_train.shape)\n",
    "print(x_test.shape)\n",
    "print(y_train.shape)\n",
    "print(y_test.shape)"
   ]
  },
  {
   "cell_type": "code",
   "execution_count": 54,
   "metadata": {},
   "outputs": [
    {
     "data": {
      "text/plain": [
       "LinearRegression(copy_X=True, fit_intercept=True, n_jobs=None, normalize=False)"
      ]
     },
     "execution_count": 54,
     "metadata": {},
     "output_type": "execute_result"
    }
   ],
   "source": [
    "#creating the linear regression model\n",
    "\n",
    "linear_model = LinearRegression()\n",
    "linear_model.fit(x_train,y_train)"
   ]
  },
  {
   "cell_type": "markdown",
   "metadata": {},
   "source": [
    "### Prediction"
   ]
  },
  {
   "cell_type": "code",
   "execution_count": 55,
   "metadata": {},
   "outputs": [
    {
     "data": {
      "text/plain": [
       "<matplotlib.collections.PathCollection at 0x7fdb30ff03d0>"
      ]
     },
     "execution_count": 55,
     "metadata": {},
     "output_type": "execute_result"
    },
    {
     "data": {
      "image/png": "[encoded data removed]",
      "text/plain": [
       "<Figure size 432x288 with 1 Axes>"
      ]
     },
     "metadata": {
      "needs_background": "light"
     },
     "output_type": "display_data"
    }
   ],
   "source": [
    "y_pred = linear_model.predict(x_test)\n",
    "plt.scatter(x_test,y_test)\n"
   ]
  },
  {
   "cell_type": "markdown",
   "metadata": {},
   "source": [
    "### Evaluating Performance"
   ]
  },
  {
   "cell_type": "code",
   "execution_count": 56,
   "metadata": {},
   "outputs": [
    {
     "name": "stdout",
     "output_type": "stream",
     "text": [
      "0.0534321677770091\n"
     ]
    }
   ],
   "source": [
    "Linear_Regression_Score = linear_model.score(x_test, y_test)\n",
    "print(linear_model.score(x_test, y_test))"
   ]
  },
  {
   "cell_type": "code",
   "execution_count": 57,
   "metadata": {},
   "outputs": [
    {
     "name": "stdout",
     "output_type": "stream",
     "text": [
      "0.22684712611270944\n"
     ]
    }
   ],
   "source": [
    "print(mean_squared_error(y_test,y_pred))"
   ]
  },
  {
   "cell_type": "markdown",
   "metadata": {},
   "source": [
    "## Linear Regression for feature 'Inspection type' \n"
   ]
  },
  {
   "cell_type": "code",
   "execution_count": 58,
   "metadata": {},
   "outputs": [
    {
     "data": {
      "image/png": "[encoded data removed]",
      "text/plain": [
       "<Figure size 432x288 with 1 Axes>"
      ]
     },
     "metadata": {
      "needs_background": "light"
     },
     "output_type": "display_data"
    }
   ],
   "source": [
    "# Model building and data preparation \n",
    "# taking inspection type as feature\n",
    "\n",
    "feature = dataset[['inspection_type']]\n",
    "target = dataset['risk_category']\n",
    "plt.scatter(feature,target,marker='o')\n",
    "plt.show()"
   ]
  },
  {
   "cell_type": "code",
   "execution_count": 59,
   "metadata": {},
   "outputs": [],
   "source": [
    "x = dataset[['inspection_type']]   # feature variable\n",
    "y = dataset['risk_category']       #target variable"
   ]
  },
  {
   "cell_type": "code",
   "execution_count": 60,
   "metadata": {},
   "outputs": [
    {
     "name": "stdout",
     "output_type": "stream",
     "text": [
      "(42229, 1)\n",
      "(10558, 1)\n",
      "(42229,)\n",
      "(10558,)\n"
     ]
    }
   ],
   "source": [
    "# split the training and test data set in 80% : 20%\n",
    "# assign random_state to 5\n",
    "\n",
    "x_train, x_test, y_train, y_test = train_test_split(x,y,test_size = 0.2, random_state = 5)\n",
    "print(x_train.shape)\n",
    "print(x_test.shape)\n",
    "print(y_train.shape)\n",
    "print(y_test.shape)"
   ]
  },
  {
   "cell_type": "code",
   "execution_count": 61,
   "metadata": {},
   "outputs": [
    {
     "data": {
      "text/plain": [
       "LinearRegression(copy_X=True, fit_intercept=True, n_jobs=None, normalize=False)"
      ]
     },
     "execution_count": 61,
     "metadata": {},
     "output_type": "execute_result"
    }
   ],
   "source": [
    "#creating the linear regression model\n",
    "\n",
    "linear_model = LinearRegression()\n",
    "linear_model.fit(x_train,y_train)"
   ]
  },
  {
   "cell_type": "markdown",
   "metadata": {},
   "source": [
    "### Prediction "
   ]
  },
  {
   "cell_type": "code",
   "execution_count": 62,
   "metadata": {},
   "outputs": [
    {
     "data": {
      "text/plain": [
       "<matplotlib.collections.PathCollection at 0x7fdb30fa5e90>"
      ]
     },
     "execution_count": 62,
     "metadata": {},
     "output_type": "execute_result"
    },
    {
     "data": {
      "image/png": "[encoded data removed]",
      "text/plain": [
       "<Figure size 432x288 with 1 Axes>"
      ]
     },
     "metadata": {
      "needs_background": "light"
     },
     "output_type": "display_data"
    }
   ],
   "source": [
    "y_pred = linear_model.predict(x_test)\n",
    "plt.scatter(x_test,y_test)"
   ]
  },
  {
   "cell_type": "markdown",
   "metadata": {},
   "source": [
    "### Evaluating Performance"
   ]
  },
  {
   "cell_type": "code",
   "execution_count": 63,
   "metadata": {},
   "outputs": [
    {
     "name": "stdout",
     "output_type": "stream",
     "text": [
      "6.577147654737702\n"
     ]
    }
   ],
   "source": [
    "Linear_score = linear_model.score(x_test, y_test)*100\n",
    "print(linear_model.score(x_test, y_test)*100)"
   ]
  },
  {
   "cell_type": "code",
   "execution_count": 64,
   "metadata": {},
   "outputs": [
    {
     "name": "stdout",
     "output_type": "stream",
     "text": [
      "0.22388998280243907\n"
     ]
    }
   ],
   "source": [
    "print(mean_squared_error(y_test,y_pred))"
   ]
  },
  {
   "cell_type": "markdown",
   "metadata": {},
   "source": [
    "### Logistic Regression Model Building"
   ]
  },
  {
   "cell_type": "code",
   "execution_count": 65,
   "metadata": {},
   "outputs": [],
   "source": [
    "# do the normalization on the data for more easier converagence\n",
    "from sklearn import preprocessing\n",
    "min_max_scaler = preprocessing.MinMaxScaler()\n",
    "x_scaled = min_max_scaler.fit_transform(dataset[['inspection_score']])\n",
    "X = pd.DataFrame(x_scaled)"
   ]
  },
  {
   "cell_type": "code",
   "execution_count": 66,
   "metadata": {},
   "outputs": [],
   "source": [
    "# Train the data 80% trainng and 20% Testing\n",
    "from sklearn.model_selection import train_test_split\n",
    "# feature_data = dataset[['inspection_score']]\n",
    "target = dataset.risk_category\n",
    "train_X, val_X, train_y, val_y = train_test_split(X, target,test_size=0.2, random_state = 5)"
   ]
  },
  {
   "cell_type": "code",
   "execution_count": 67,
   "metadata": {},
   "outputs": [
    {
     "data": {
      "text/plain": [
       "LogisticRegression(C=1.0, class_weight=None, dual=False, fit_intercept=True,\n",
       "                   intercept_scaling=1, l1_ratio=None, max_iter=100,\n",
       "                   multi_class='auto', n_jobs=None, penalty='l2',\n",
       "                   random_state=None, solver='lbfgs', tol=0.0001, verbose=0,\n",
       "                   warm_start=False)"
      ]
     },
     "execution_count": 67,
     "metadata": {},
     "output_type": "execute_result"
    }
   ],
   "source": [
    "# Importing Libraries \n",
    "from sklearn.linear_model import LogisticRegression\n",
    "\n",
    "logistic_regression = LogisticRegression()\n",
    "\n",
    "# fit the model with data\n",
    "logistic_regression.fit(train_X,train_y)"
   ]
  },
  {
   "cell_type": "code",
   "execution_count": 68,
   "metadata": {},
   "outputs": [],
   "source": [
    "#Do the prediction for the test data\n",
    "\n",
    "y_pred=logistic_regression.predict(val_X)\n"
   ]
  },
  {
   "cell_type": "code",
   "execution_count": 69,
   "metadata": {},
   "outputs": [
    {
     "data": {
      "text/html": [
       "<div>\n",
       "<style scoped>\n",
       "    .dataframe tbody tr th:only-of-type {\n",
       "        vertical-align: middle;\n",
       "    }\n",
       "\n",
       "    .dataframe tbody tr th {\n",
       "        vertical-align: top;\n",
       "    }\n",
       "\n",
       "    .dataframe thead th {\n",
       "        text-align: right;\n",
       "    }\n",
       "</style>\n",
       "<table border=\"1\" class=\"dataframe\">\n",
       "  <thead>\n",
       "    <tr style=\"text-align: right;\">\n",
       "      <th></th>\n",
       "      <th>0</th>\n",
       "    </tr>\n",
       "  </thead>\n",
       "  <tbody>\n",
       "    <tr>\n",
       "      <th>0</th>\n",
       "      <td>0.781818</td>\n",
       "    </tr>\n",
       "    <tr>\n",
       "      <th>1</th>\n",
       "      <td>0.763636</td>\n",
       "    </tr>\n",
       "    <tr>\n",
       "      <th>2</th>\n",
       "      <td>0.581818</td>\n",
       "    </tr>\n",
       "    <tr>\n",
       "      <th>3</th>\n",
       "      <td>0.654545</td>\n",
       "    </tr>\n",
       "    <tr>\n",
       "      <th>4</th>\n",
       "      <td>0.527273</td>\n",
       "    </tr>\n",
       "    <tr>\n",
       "      <th>...</th>\n",
       "      <td>...</td>\n",
       "    </tr>\n",
       "    <tr>\n",
       "      <th>52782</th>\n",
       "      <td>0.727273</td>\n",
       "    </tr>\n",
       "    <tr>\n",
       "      <th>52783</th>\n",
       "      <td>0.749455</td>\n",
       "    </tr>\n",
       "    <tr>\n",
       "      <th>52784</th>\n",
       "      <td>0.749455</td>\n",
       "    </tr>\n",
       "    <tr>\n",
       "      <th>52785</th>\n",
       "      <td>0.749455</td>\n",
       "    </tr>\n",
       "    <tr>\n",
       "      <th>52786</th>\n",
       "      <td>0.749455</td>\n",
       "    </tr>\n",
       "  </tbody>\n",
       "</table>\n",
       "<p>52787 rows × 1 columns</p>\n",
       "</div>"
      ],
      "text/plain": [
       "              0\n",
       "0      0.781818\n",
       "1      0.763636\n",
       "2      0.581818\n",
       "3      0.654545\n",
       "4      0.527273\n",
       "...         ...\n",
       "52782  0.727273\n",
       "52783  0.749455\n",
       "52784  0.749455\n",
       "52785  0.749455\n",
       "52786  0.749455\n",
       "\n",
       "[52787 rows x 1 columns]"
      ]
     },
     "execution_count": 69,
     "metadata": {},
     "output_type": "execute_result"
    }
   ],
   "source": [
    "X"
   ]
  },
  {
   "cell_type": "code",
   "execution_count": 70,
   "metadata": {},
   "outputs": [
    {
     "data": {
      "text/plain": [
       "numpy.ndarray"
      ]
     },
     "execution_count": 70,
     "metadata": {},
     "output_type": "execute_result"
    }
   ],
   "source": [
    "type(y_pred)"
   ]
  },
  {
   "cell_type": "code",
   "execution_count": 71,
   "metadata": {},
   "outputs": [
    {
     "data": {
      "text/plain": [
       "38473    0.749455\n",
       "40794    0.749455\n",
       "26745    0.763636\n",
       "13614    0.890909\n",
       "30432    0.749455\n",
       "           ...   \n",
       "44712    0.749455\n",
       "20808    0.927273\n",
       "26938    0.581818\n",
       "35167    0.545455\n",
       "50526    0.800000\n",
       "Name: 0, Length: 10558, dtype: float64"
      ]
     },
     "execution_count": 71,
     "metadata": {},
     "output_type": "execute_result"
    }
   ],
   "source": [
    "val_X[0]"
   ]
  },
  {
   "cell_type": "code",
   "execution_count": 72,
   "metadata": {},
   "outputs": [
    {
     "name": "stderr",
     "output_type": "stream",
     "text": [
      "/Users/m.mraisi/opt/anaconda3/lib/python3.7/site-packages/statsmodels/genmod/families/family.py:894: RuntimeWarning: invalid value encountered in true_divide\n",
      "  n_endog_mu = self._clean((1. - endog) / (1. - mu))\n",
      "/Users/m.mraisi/opt/anaconda3/lib/python3.7/site-packages/statsmodels/genmod/families/links.py:188: RuntimeWarning: overflow encountered in exp\n",
      "  t = np.exp(-z)\n",
      "/Users/m.mraisi/opt/anaconda3/lib/python3.7/site-packages/statsmodels/genmod/families/family.py:893: RuntimeWarning: invalid value encountered in true_divide\n",
      "  endog_mu = self._clean(endog / mu)\n"
     ]
    },
    {
     "data": {
      "image/png": "[encoded data removed]",
      "text/plain": [
       "<Figure size 432x288 with 1 Axes>"
      ]
     },
     "metadata": {
      "needs_background": "light"
     },
     "output_type": "display_data"
    }
   ],
   "source": [
    "#visualising the graph of every variable against the outcome variable\n",
    "\n",
    "\n",
    "plt.title(\"\")\n",
    "plt.xlabel(\"labels\")\n",
    "ax=sns.regplot(x=val_X[0], y=y_pred, logistic=True,ci=None,line_kws={'color':'red'})\n",
    "ax.set(xlabel='inspection_score', ylabel='Outcome')\n",
    "plt.show()"
   ]
  },
  {
   "cell_type": "code",
   "execution_count": 73,
   "metadata": {},
   "outputs": [
    {
     "name": "stdout",
     "output_type": "stream",
     "text": [
      "[0 0 0 ... 1 1 0]\n"
     ]
    }
   ],
   "source": [
    "print(y_pred)"
   ]
  },
  {
   "cell_type": "code",
   "execution_count": 74,
   "metadata": {},
   "outputs": [
    {
     "name": "stdout",
     "output_type": "stream",
     "text": [
      "[[5793  560]\n",
      " [3153 1052]]\n"
     ]
    }
   ],
   "source": [
    "confusion_matrix = metrics.confusion_matrix(val_y, y_pred)\n",
    "print(confusion_matrix)"
   ]
  },
  {
   "cell_type": "code",
   "execution_count": 75,
   "metadata": {},
   "outputs": [
    {
     "data": {
      "text/plain": [
       "Text(0.5, 15.0, 'Predicted label')"
      ]
     },
     "execution_count": 75,
     "metadata": {},
     "output_type": "execute_result"
    },
    {
     "data": {
      "image/png": "[encoded data removed]",
      "text/plain": [
       "<Figure size 432x288 with 2 Axes>"
      ]
     },
     "metadata": {
      "needs_background": "light"
     },
     "output_type": "display_data"
    }
   ],
   "source": [
    "# create heatmap\n",
    "sns.heatmap(pd.DataFrame(confusion_matrix), annot=True, cmap=\"YlGnBu\" ,fmt='g')\n",
    "plt.title('Confusion matrix')\n",
    "plt.ylabel('Actual label')\n",
    "plt.xlabel('Predicted label')"
   ]
  },
  {
   "cell_type": "code",
   "execution_count": 76,
   "metadata": {},
   "outputs": [
    {
     "name": "stdout",
     "output_type": "stream",
     "text": [
      "Accuracy: 0.6483235461261603\n",
      "Precision: 0.652605459057072\n",
      "Recall: 0.2501783590963139\n"
     ]
    }
   ],
   "source": [
    "Logistic_accuracy = metrics.accuracy_score(val_y, y_pred)\n",
    "print(\"Accuracy:\",metrics.accuracy_score(val_y, y_pred))\n",
    "print(\"Precision:\",metrics.precision_score(val_y, y_pred))\n",
    "print(\"Recall:\",metrics.recall_score(val_y, y_pred))"
   ]
  },
  {
   "cell_type": "code",
   "execution_count": 77,
   "metadata": {},
   "outputs": [
    {
     "data": {
      "text/html": [
       "<div>\n",
       "<style scoped>\n",
       "    .dataframe tbody tr th:only-of-type {\n",
       "        vertical-align: middle;\n",
       "    }\n",
       "\n",
       "    .dataframe tbody tr th {\n",
       "        vertical-align: top;\n",
       "    }\n",
       "\n",
       "    .dataframe thead th {\n",
       "        text-align: right;\n",
       "    }\n",
       "</style>\n",
       "<table border=\"1\" class=\"dataframe\">\n",
       "  <thead>\n",
       "    <tr style=\"text-align: right;\">\n",
       "      <th></th>\n",
       "      <th>inspection_score</th>\n",
       "      <th>inspection_type</th>\n",
       "      <th>risk_category</th>\n",
       "    </tr>\n",
       "  </thead>\n",
       "  <tbody>\n",
       "  </tbody>\n",
       "</table>\n",
       "</div>"
      ],
      "text/plain": [
       "Empty DataFrame\n",
       "Columns: [inspection_score, inspection_type, risk_category]\n",
       "Index: []"
      ]
     },
     "execution_count": 77,
     "metadata": {},
     "output_type": "execute_result"
    }
   ],
   "source": [
    "dataset[dataset[\"risk_category\"]==2]"
   ]
  },
  {
   "cell_type": "code",
   "execution_count": 78,
   "metadata": {},
   "outputs": [
    {
     "data": {
      "text/plain": [
       "0    32036\n",
       "1    20751\n",
       "Name: risk_category, dtype: int64"
      ]
     },
     "execution_count": 78,
     "metadata": {},
     "output_type": "execute_result"
    }
   ],
   "source": [
    "dataset[\"risk_category\"].value_counts()"
   ]
  },
  {
   "cell_type": "markdown",
   "metadata": {},
   "source": [
    "### K means clustering"
   ]
  },
  {
   "cell_type": "code",
   "execution_count": 79,
   "metadata": {},
   "outputs": [],
   "source": [
    "from sklearn.cluster import KMeans\n",
    "%matplotlib inline"
   ]
  },
  {
   "cell_type": "code",
   "execution_count": 80,
   "metadata": {},
   "outputs": [],
   "source": [
    "x_kmeans = dataset.drop([\"risk_category\"], axis=1)\n",
    "y_kmeans = dataset[[\"risk_category\"]]"
   ]
  },
  {
   "cell_type": "code",
   "execution_count": 81,
   "metadata": {},
   "outputs": [
    {
     "data": {
      "image/png": "[encoded data removed]",
      "text/plain": [
       "<Figure size 432x288 with 1 Axes>"
      ]
     },
     "metadata": {
      "needs_background": "light"
     },
     "output_type": "display_data"
    }
   ],
   "source": [
    "# Building the elbow graph for the k value\n",
    "\n",
    "distortions = []\n",
    "for i in range(1, 10):\n",
    "    km = KMeans(\n",
    "        n_clusters=i, init='random',\n",
    "        n_init=10, max_iter=300,\n",
    "        tol=1e-04, random_state=0\n",
    "    )\n",
    "    km.fit(x_kmeans)\n",
    "    distortions.append(km.inertia_)\n",
    "\n",
    "# plotting the graph\n",
    "\n",
    "plt.plot(range(1, 10), distortions, marker='o')\n",
    "plt.xlabel('Number of clusters')\n",
    "plt.ylabel('Distortion')\n",
    "plt.show()"
   ]
  },
  {
   "cell_type": "code",
   "execution_count": 82,
   "metadata": {},
   "outputs": [
    {
     "data": {
      "text/plain": [
       "KMeans(algorithm='auto', copy_x=True, init='k-means++', max_iter=300,\n",
       "       n_clusters=2, n_init=10, n_jobs=None, precompute_distances='auto',\n",
       "       random_state=None, tol=0.0001, verbose=0)"
      ]
     },
     "execution_count": 82,
     "metadata": {},
     "output_type": "execute_result"
    }
   ],
   "source": [
    "#since the elbow method is best on 3 number of clusters, we sould go with that\n",
    "#but since we converted the labels into 0 and 1, we decide to choose 2 clusters\n",
    "\n",
    "Kmeans_model=KMeans(n_clusters=2)\n",
    "Kmeans_model.fit(x_kmeans)"
   ]
  },
  {
   "cell_type": "code",
   "execution_count": 83,
   "metadata": {},
   "outputs": [
    {
     "data": {
      "text/plain": [
       "array([[8.90492513e+01, 8.30507252e-01],\n",
       "       [7.55504014e+01, 1.63202785e-13]])"
      ]
     },
     "execution_count": 83,
     "metadata": {},
     "output_type": "execute_result"
    }
   ],
   "source": [
    "#To get the centroids of the clusters\n",
    "\n",
    "Kmeans_model.cluster_centers_"
   ]
  },
  {
   "cell_type": "code",
   "execution_count": 84,
   "metadata": {},
   "outputs": [
    {
     "data": {
      "text/plain": [
       "array([0, 0, 1, ..., 0, 0, 0], dtype=int32)"
      ]
     },
     "execution_count": 84,
     "metadata": {},
     "output_type": "execute_result"
    }
   ],
   "source": [
    "#Can also predict using the normal predict method\n",
    "\n",
    "Kmeans_model.predict(x_kmeans)"
   ]
  },
  {
   "cell_type": "code",
   "execution_count": 85,
   "metadata": {},
   "outputs": [
    {
     "data": {
      "text/plain": [
       "array([0, 0, 1, ..., 0, 0, 0], dtype=int32)"
      ]
     },
     "execution_count": 85,
     "metadata": {},
     "output_type": "execute_result"
    }
   ],
   "source": [
    "#The predicted classes\n",
    "\n",
    "y_pred=Kmeans_model.labels_\n",
    "y_pred"
   ]
  },
  {
   "cell_type": "markdown",
   "metadata": {},
   "source": [
    "### SVM model building"
   ]
  },
  {
   "cell_type": "code",
   "execution_count": 86,
   "metadata": {},
   "outputs": [],
   "source": [
    "#Import the required modules from the sklearn for model building, evaluating performance\n",
    "\n",
    "from sklearn import datasets\n",
    "from sklearn.model_selection import train_test_split\n",
    "from sklearn.svm import SVC\n",
    "from sklearn.metrics import confusion_matrix\n",
    "from sklearn.model_selection import cross_val_score"
   ]
  },
  {
   "cell_type": "code",
   "execution_count": 87,
   "metadata": {},
   "outputs": [],
   "source": [
    "#Split the data into training and testing data\n",
    "\n",
    "X_train, X_test, Y_train, Y_test = train_test_split(dataset[[\"inspection_score\"]], dataset.risk_category, test_size = 0.2)"
   ]
  },
  {
   "cell_type": "code",
   "execution_count": 88,
   "metadata": {},
   "outputs": [
    {
     "data": {
      "text/plain": [
       "SVC(C=1.0, break_ties=False, cache_size=200, class_weight=None, coef0=0.0,\n",
       "    decision_function_shape='ovr', degree=3, gamma='scale', kernel='sigmoid',\n",
       "    max_iter=-1, probability=False, random_state=0, shrinking=True, tol=0.001,\n",
       "    verbose=False)"
      ]
     },
     "execution_count": 88,
     "metadata": {},
     "output_type": "execute_result"
    }
   ],
   "source": [
    "#Create the SVM model\n",
    "SVM = SVC(kernel = 'sigmoid', random_state = 0)\n",
    "\n",
    "#Fit the model for the data\n",
    "SVM.fit(X_train, Y_train)"
   ]
  },
  {
   "cell_type": "code",
   "execution_count": 89,
   "metadata": {},
   "outputs": [],
   "source": [
    "#Make the prediction\n",
    "y_pred = SVM.predict(X_test)"
   ]
  },
  {
   "cell_type": "code",
   "execution_count": 90,
   "metadata": {},
   "outputs": [
    {
     "data": {
      "text/plain": [
       "array([0, 0, 0, ..., 0, 0, 0])"
      ]
     },
     "execution_count": 90,
     "metadata": {},
     "output_type": "execute_result"
    }
   ],
   "source": [
    "y_pred"
   ]
  },
  {
   "cell_type": "code",
   "execution_count": 91,
   "metadata": {},
   "outputs": [
    {
     "name": "stdout",
     "output_type": "stream",
     "text": [
      "[[6461    0]\n",
      " [4097    0]]\n"
     ]
    }
   ],
   "source": [
    "#Performance evaluation using confusion matrix\n",
    "\n",
    "confusion_matrix = confusion_matrix(Y_test, y_pred)\n",
    "print(confusion_matrix)"
   ]
  },
  {
   "cell_type": "code",
   "execution_count": 92,
   "metadata": {},
   "outputs": [
    {
     "data": {
      "text/plain": [
       "Text(0.5, 15.0, 'Predicted label')"
      ]
     },
     "execution_count": 92,
     "metadata": {},
     "output_type": "execute_result"
    },
    {
     "data": {
      "image/png": "[encoded data removed]",
      "text/plain": [
       "<Figure size 432x288 with 2 Axes>"
      ]
     },
     "metadata": {
      "needs_background": "light"
     },
     "output_type": "display_data"
    }
   ],
   "source": [
    "# create heatmap\n",
    "sns.heatmap(pd.DataFrame(confusion_matrix), annot=True, cmap=\"YlGnBu\" ,fmt='g')\n",
    "plt.title('Confusion matrix')\n",
    "plt.ylabel('Actual label')\n",
    "plt.xlabel('Predicted label')"
   ]
  },
  {
   "cell_type": "code",
   "execution_count": 93,
   "metadata": {},
   "outputs": [
    {
     "name": "stdout",
     "output_type": "stream",
     "text": [
      "Accuracy: 60.56 %\n"
     ]
    }
   ],
   "source": [
    "#Accuracy of the model by cross validation score\n",
    "\n",
    "SVM_accuracy = cross_val_score(estimator = SVM, X = X_train, y = Y_train, cv = 10)\n",
    "print(\"Accuracy: {:.2f} %\".format(SVM_accuracy.mean()*100))"
   ]
  },
  {
   "cell_type": "code",
   "execution_count": 107,
   "metadata": {},
   "outputs": [
    {
     "data": {
      "image/png": "[encoded data removed]",
      "text/plain": [
       "<Figure size 720x720 with 1 Axes>"
      ]
     },
     "metadata": {
      "needs_background": "light"
     },
     "output_type": "display_data"
    }
   ],
   "source": [
    "xax = [\"Linear Regression\", \"Logistic regression\", \"SVM\", \"DT Classifier\"]\n",
    "tscores = []\n",
    "tscores.append(Linear_score)\n",
    "tscores.append(Logistic_accuracy*100)\n",
    "tscores.append(SVM_accuracy[1]*100)\n",
    "tscores.append(acc_dt)\n",
    "        \n",
    "\n",
    "\n",
    "plt.figure(figsize=(10,10))\n",
    "plt.bar(xax, tscores)\n",
    "plt.ylabel(\"Accuracy\")\n",
    "plt.xlabel(\"Model\")\n",
    "plt.title('Accuracy for each model')\n",
    "plt.show()"
   ]
  },
  {
   "cell_type": "markdown",
   "metadata": {},
   "source": [
    "It is clearly visible with the results that DT model is the best model for our dataset."
   ]
  },
  {
   "cell_type": "code",
   "execution_count": null,
   "metadata": {},
   "outputs": [],
   "source": []
  }
 ],
 "metadata": {
  "kernelspec": {
   "display_name": "Python 3",
   "language": "python",
   "name": "python3"
  },
  "language_info": {
   "codemirror_mode": {
    "name": "ipython",
    "version": 3
   },
   "file_extension": ".py",
   "mimetype": "text/x-python",
   "name": "python",
   "nbconvert_exporter": "python",
   "pygments_lexer": "ipython3",
   "version": "3.7.6"
  }
 },
 "nbformat": 4,
 "nbformat_minor": 4
}
